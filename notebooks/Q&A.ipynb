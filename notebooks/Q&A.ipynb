{
 "cells": [
  {
   "cell_type": "code",
   "execution_count": 4,
   "id": "e12665cd",
   "metadata": {},
   "outputs": [],
   "source": [
    "# Filepath to the knowledge base\n",
    "file_path = r'C:\\Users\\User\\projects\\ai_support_assistant\\data\\raw\\knowledge_base.txt'"
   ]
  },
  {
   "cell_type": "code",
   "execution_count": 5,
   "id": "6220ee26",
   "metadata": {},
   "outputs": [],
   "source": [
    "# Initialize a list to store question-answer pairs\n",
    "qa_pairs = []\n",
    "\n",
    "# Read the file and process line by line\n",
    "with open(file_path, 'r', encoding='utf-8') as file:\n",
    "    question = None\n",
    "    for line in file:\n",
    "        line = line.strip()  # Remove leading/trailing whitespace\n",
    "        if line.startswith(\"Question:\"):\n",
    "            question = line.replace(\"Question: \", \"\").strip()\n",
    "        elif line.startswith(\"Answer:\") and question:\n",
    "            answer = line.replace(\"Answer: \", \"\").strip()\n",
    "            qa_pairs.append((question, answer))\n",
    "            question = None  # Reset question for the next pair"
   ]
  },
  {
   "cell_type": "code",
   "execution_count": 6,
   "id": "08476e12",
   "metadata": {},
   "outputs": [
    {
     "name": "stdout",
     "output_type": "stream",
     "text": [
      "Question-Answer Pairs:\n",
      "('How do I reset my password?', 'You can reset your password by going to the login page and clicking the \"Forgot Password\" link. Follow the instructions sent to your email.')\n",
      "('What are your business hours?', 'Our support team is available from 9 AM to 5 PM, Monday to Friday.')\n",
      "('How can I track my order?', 'You can track your order by logging into your account and navigating to the \"Order History\" section. Your tracking number will be listed there.')\n"
     ]
    }
   ],
   "source": [
    "# Display the extracted question-answer pairs\n",
    "print(\"Question-Answer Pairs:\")\n",
    "for pair in qa_pairs:\n",
    "    print(pair)"
   ]
  }
 ],
 "metadata": {
  "kernelspec": {
   "display_name": "ai_support_env",
   "language": "python",
   "name": "python3"
  },
  "language_info": {
   "codemirror_mode": {
    "name": "ipython",
    "version": 3
   },
   "file_extension": ".py",
   "mimetype": "text/x-python",
   "name": "python",
   "nbconvert_exporter": "python",
   "pygments_lexer": "ipython3",
   "version": "3.10.16"
  }
 },
 "nbformat": 4,
 "nbformat_minor": 5
}
