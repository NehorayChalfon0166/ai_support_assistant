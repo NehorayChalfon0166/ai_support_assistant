{
 "cells": [
  {
   "cell_type": "code",
   "execution_count": null,
   "id": "c24b0407",
   "metadata": {
    "vscode": {
     "languageId": "plaintext"
    }
   },
   "outputs": [],
   "source": [
    "import pandas as pd\n",
    "\n",
    "# Load CSV data from 'raw' file\n",
    "df = pd.read_csv('twcs.csv')\n",
    "df.head()"
   ]
  }
 ],
 "metadata": {
  "language_info": {
   "name": "python"
  }
 },
 "nbformat": 4,
 "nbformat_minor": 5
}
