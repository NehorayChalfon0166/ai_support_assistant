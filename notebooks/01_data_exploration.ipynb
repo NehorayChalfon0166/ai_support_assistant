{
 "cells": [
  {
   "cell_type": "code",
   "execution_count": null,
   "id": "c24b0407",
   "metadata": {
    "vscode": {
     "languageId": "plaintext"
    }
   },
   "outputs": [],
   "source": [
    "import pandas as pd\n",
    "\n",
    "# Load CSV data from 'raw' file\n",
    "df = pd.read_csv('twcs.csv')\n",
    "df.head()"
   ]
  },
  {
   "cell_type": "code",
   "execution_count": null,
   "id": "d5e3035b",
   "metadata": {
    "vscode": {
     "languageId": "coffeescript"
    }
   },
   "outputs": [],
   "source": [
    "# Explore the 'text', 'author_id', and 'inbound' columns\n",
    "\n",
    "# Show basic info\n",
    "print(df[['text', 'author_id', 'inbound']].info())\n",
    "\n",
    "# Show first few rows\n",
    "print(df[['text', 'author_id', 'inbound']].head())\n",
    "\n",
    "# Check for missing values\n",
    "print(df[['text', 'author_id', 'inbound']].isnull().sum())\n",
    "\n",
    "# Show unique author count and inbound value counts\n",
    "print(\"Unique authors:\", df['author_id'].nunique())\n",
    "print(\"Inbound value counts:\\n\", df['inbound'].value_counts())"
   ]
  },
  {
   "cell_type": "code",
   "execution_count": null,
   "id": "2eef5b72",
   "metadata": {
    "vscode": {
     "languageId": "plaintext"
    }
   },
   "outputs": [],
   "source": []
  }
 ],
 "metadata": {
  "language_info": {
   "name": "python"
  }
 },
 "nbformat": 4,
 "nbformat_minor": 5
}
