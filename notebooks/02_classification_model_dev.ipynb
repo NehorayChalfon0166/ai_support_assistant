{
 "cells": [
  {
   "cell_type": "code",
   "execution_count": 2,
   "id": "50786cd0",
   "metadata": {},
   "outputs": [],
   "source": [
    "import pandas as pd\n",
    "\n",
    "# Load 'twcs' from 'raw' file\n",
    "df = pd.read_csv(r'C:\\Users\\User\\projects\\ai_support_assistant\\data\\raw\\twcs.csv')"
   ]
  },
  {
   "cell_type": "code",
   "execution_count": 3,
   "id": "42ae9a0a",
   "metadata": {},
   "outputs": [],
   "source": [
    "# filter for 'inbund' == True tweets\n",
    "df = df[df['inbound']==False]"
   ]
  },
  {
   "cell_type": "code",
   "execution_count": 5,
   "id": "9e392066",
   "metadata": {},
   "outputs": [],
   "source": [
    "company_names = df['author_id'].unique()"
   ]
  },
  {
   "cell_type": "code",
   "execution_count": 12,
   "id": "5f3548c6",
   "metadata": {},
   "outputs": [],
   "source": [
    "import pandas as pd\n",
    "\n",
    "# unique company screen names from 'author_id' where inbound == False\n",
    "outbound_df = df[df['inbound'] == False]\n",
    "company_names = outbound_df['author_id'].unique()"
   ]
  },
  {
   "cell_type": "code",
   "execution_count": null,
   "id": "14689cf7",
   "metadata": {},
   "outputs": [
    {
     "name": "stdout",
     "output_type": "stream",
     "text": [
      "\n",
      "Target Companies List:\n",
      "['AmazonHelp', 'AppleSupport', 'AmericanAir', 'Uber_Support', 'Delta', 'VirginTrains', 'SouthwestAir', 'Tesco', 'SpotifyCares', 'British_Airways']\n"
     ]
    }
   ],
   "source": [
    "import re\n",
    "from collections import Counter\n",
    "\n",
    "# @-mentions from 'text' where inbound == True\n",
    "inbound_df = df[df['inbound'] == True]\n",
    "mentions = []\n",
    "for text in inbound_df['text']:\n",
    "    mentions.extend(re.findall(r'@\\w+', text))  # Extract @mentions\n",
    "\n",
    "# Remove @ prefix from mentions\n",
    "mentions = [mention.lstrip('@') for mention in mentions]\n",
    "\n",
    "# Count the frequency of mentions that are in the company_names list\n",
    "mention_counts = Counter([mention for mention in mentions if mention in company_names])\n",
    "\n",
    "# Get the top 10 mentioned company names\n",
    "target_companies_list = [mention for mention, _ in mention_counts.most_common(10)]\n",
    "\n",
    "print(\"\\nTarget Companies List:\")\n",
    "print(target_companies_list)"
   ]
  },
  {
   "cell_type": "code",
   "execution_count": null,
   "id": "ab3ebfe1",
   "metadata": {},
   "outputs": [],
   "source": [
    "# Function to extract the first valid @-mention from the text that is in target_companies_list\n",
    "def extract_company_label(text, target_companies):\n",
    "    mentions = re.findall(r'@\\w+', text)  # Extract all @mentions\n",
    "    for mention in mentions:\n",
    "        mention_cleaned = mention.lstrip('@')  # Remove @ prefix\n",
    "        if mention_cleaned in target_companies:\n",
    "            return mention_cleaned\n",
    "    return None\n",
    "\n",
    "# Create a new column for cleaned text by removing the extracted company label\n",
    "def clean_text(text, label):\n",
    "    if label:\n",
    "        return re.sub(rf'@{label}', '', text).strip()  # Remove the @mention from the text\n",
    "    return text"
   ]
  },
  {
   "cell_type": "code",
   "execution_count": null,
   "id": "6d0ead24",
   "metadata": {},
   "outputs": [],
   "source": [
    "# Apply the functions to create a new columns\n",
    "inbound_df['extracted_company_label'] = inbound_df['text'].apply(lambda x: extract_company_label(x, target_companies_list)) \n",
    "inbound_df['cleaned_text_for_feature'] = inbound_df.apply(\n",
    "    lambda row: clean_text(row['text'], row['extracted_company_label']), axis=1"
   ]
  },
  {
   "cell_type": "code",
   "execution_count": null,
   "id": "a2ae2735",
   "metadata": {},
   "outputs": [],
   "source": [
    "# Filter out rows where extracted_company_label is null\n",
    "filtered_df = inbound_df[inbound_df['extracted_company_label'].notnull()]"
   ]
  },
  {
   "cell_type": "code",
   "execution_count": null,
   "id": "00f36f68",
   "metadata": {},
   "outputs": [],
   "source": [
    "# download nltk for text cleaning\n",
    "import nltk\n",
    "nltk.download('stopwords')\n",
    "nltk.download('punkt')"
   ]
  },
  {
   "cell_type": "code",
   "execution_count": null,
   "id": "580952a3",
   "metadata": {},
   "outputs": [],
   "source": [
    "# Text cleaning function\n",
    "def clean_text(text):\n",
    "    # Convert to lowercase\n",
    "    text = text.lower()\n",
    "    # Remove punctuation\n",
    "    text = text.translate(str.maketrans('', '', string.punctuation))\n",
    "    # Tokenize text\n",
    "    tokens = word_tokenize(text)\n",
    "    # Remove stopwords\n",
    "    stop_words = set(stopwords.words('english'))\n",
    "    tokens = [word for word in tokens if word not in stop_words]\n",
    "    # Join tokens back into a single string\n",
    "    return ' '.join(tokens)"
   ]
  },
  {
   "cell_type": "code",
   "execution_count": null,
   "id": "41d3b2ec",
   "metadata": {},
   "outputs": [],
   "source": [
    "# Apply text cleaning to the 'cleaned_text_for_feature' column\n",
    "filtered_df['cleaned_text_for_feature'] = filtered_df['cleaned_text_for_feature'].apply(clean_text_for_model)"
   ]
  },
  {
   "cell_type": "code",
   "execution_count": null,
   "id": "49d77265",
   "metadata": {},
   "outputs": [],
   "source": [
    "# Encode the 'extracted_company_label' column using LabelEncoder\n",
    "label_encoder = LabelEncoder()\n",
    "filtered_df['encoded_company_label'] = label_encoder.fit_transform(filtered_df['extracted_company_label'])"
   ]
  }
 ],
 "metadata": {
  "kernelspec": {
   "display_name": "ai_support_env",
   "language": "python",
   "name": "python3"
  },
  "language_info": {
   "codemirror_mode": {
    "name": "ipython",
    "version": 3
   },
   "file_extension": ".py",
   "mimetype": "text/x-python",
   "name": "python",
   "nbconvert_exporter": "python",
   "pygments_lexer": "ipython3",
   "version": "3.10.16"
  }
 },
 "nbformat": 4,
 "nbformat_minor": 5
}
