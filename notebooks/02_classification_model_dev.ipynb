{
 "cells": [
  {
   "cell_type": "code",
   "execution_count": 2,
   "id": "50786cd0",
   "metadata": {},
   "outputs": [],
   "source": [
    "import pandas as pd\n",
    "\n",
    "# Load 'twcs' from 'raw' file\n",
    "df = pd.read_csv(r'C:\\Users\\User\\projects\\ai_support_assistant\\data\\raw\\twcs.csv')"
   ]
  },
  {
   "cell_type": "code",
   "execution_count": 3,
   "id": "42ae9a0a",
   "metadata": {},
   "outputs": [],
   "source": [
    "# filter for 'inbund' == True tweets\n",
    "df = df[df['inbound']==False]"
   ]
  },
  {
   "cell_type": "code",
   "execution_count": 5,
   "id": "9e392066",
   "metadata": {},
   "outputs": [],
   "source": [
    "company_names = df['author_id'].unique()"
   ]
  },
  {
   "cell_type": "code",
   "execution_count": 12,
   "id": "5f3548c6",
   "metadata": {},
   "outputs": [],
   "source": [
    "import pandas as pd\n",
    "\n",
    "# unique company screen names from 'author_id' where inbound == False\n",
    "outbound_df = df[df['inbound'] == False]\n",
    "company_names = outbound_df['author_id'].unique()"
   ]
  },
  {
   "cell_type": "code",
   "execution_count": null,
   "id": "14689cf7",
   "metadata": {},
   "outputs": [
    {
     "name": "stdout",
     "output_type": "stream",
     "text": [
      "\n",
      "Target Companies List:\n",
      "['AmazonHelp', 'AppleSupport', 'AmericanAir', 'Uber_Support', 'Delta', 'VirginTrains', 'SouthwestAir', 'Tesco', 'SpotifyCares', 'British_Airways']\n"
     ]
    }
   ],
   "source": [
    "import re\n",
    "from collections import Counter\n",
    "\n",
    "# @-mentions from 'text' where inbound == True\n",
    "inbound_df = df[df['inbound'] == True]\n",
    "mentions = []\n",
    "for text in inbound_df['text']:\n",
    "    mentions.extend(re.findall(r'@\\w+', text))  # Extract @mentions\n",
    "\n",
    "# Remove @ prefix from mentions\n",
    "mentions = [mention.lstrip('@') for mention in mentions]\n",
    "\n",
    "# Count the frequency of mentions that are in the company_names list\n",
    "mention_counts = Counter([mention for mention in mentions if mention in company_names])\n",
    "\n",
    "# Get the top 10 mentioned company names\n",
    "target_companies_list = [mention for mention, _ in mention_counts.most_common(10)]\n",
    "\n",
    "print(\"\\nTarget Companies List:\")\n",
    "print(target_companies_list)"
   ]
  }
 ],
 "metadata": {
  "kernelspec": {
   "display_name": "ai_support_env",
   "language": "python",
   "name": "python3"
  },
  "language_info": {
   "codemirror_mode": {
    "name": "ipython",
    "version": 3
   },
   "file_extension": ".py",
   "mimetype": "text/x-python",
   "name": "python",
   "nbconvert_exporter": "python",
   "pygments_lexer": "ipython3",
   "version": "3.10.16"
  }
 },
 "nbformat": 4,
 "nbformat_minor": 5
}
